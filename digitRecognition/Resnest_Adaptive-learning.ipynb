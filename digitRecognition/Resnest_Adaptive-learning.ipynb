{
 "cells": [
  {
   "cell_type": "markdown",
   "metadata": {},
   "source": [
    "# $\\underline{\\textbf{Digits recognition i redes neuronales convolucionales.}}$\n",
    "\n",
    "## $\\textbf{Bastien Zimmermann}$                        \n",
    "$\\textit{last modification : 06/12/2019}$"
   ]
  },
  {
   "cell_type": "markdown",
   "metadata": {},
   "source": [
    "---\n",
    "Este notebook intenta resolver el famoso Kaggle Challenge : Digit Recognition usando scikit learn dataset hand written dataset. Al mismo tiempo desmuestra como usar computer vision para industria monstrando su foncionamiento.\n",
    "\n",
    "challenge link : https://www.kaggle.com/c/house-prices-advanced-regression-techniques/overview/evaluation\n",
    "\n",
    "---\n",
    "\n",
    "# Introduction\n",
    "\n",
    "Visión por computadora, comprensión de imágenes digitales y extracción de datos de alta dimensión del mundo real para obtener información numérica o simbólica. Este campo floreció junto con la inteligencia artificial, con sistemas capaces de abordar los límites de decisión de alta dimensión (redes neuronales) desbloqueó el potencial del reconocimiento de imágenes. Imágenes y su contenido tienen muchos grados de variación: rotación, orientación, escala, iluminación, calidad y muchos otros. Cuando se trata de reconocimiento escrito a mano, un sistema se eleva por encima de los demás, esa es la Red Neural Convolucional o CNN. Esta red es un sistema de dos partes que primero identifica las características relevantes que luego se envían a un sistema neuronal. red que se cobrará por clasificar la muestra. En general, tenemos una red muy adaptable que es resistente a muchos variaciones como: escala, rotaciones o variación de ancho de trazo. \n",
    "\n",
    "Sin embargo, como muchos problemas de aprendizaje automático, un factor clave es primordial para que sea exitoso: tener MUCHOS datos.\n",
    "\n",
    "El algoritmo aprende de manera similar a una red neuronal convencional usando propagación hacia atrás y descenso de gradiente a través de todas sus capas Con un buen ajuste de parámetros y una enorme cantidad de datos, la red podría aprender y alcanzar el pico actuaciones, en el trabajo inicial de Y. ¡La precisión de LeCun alcanza más del 99,2%! \n",
    "Además, este sistema es fácilmente modificable, enfrentando un problema similar, uno podría usar las mismas herramientas y un sistema modificado. arquitectura para resolverlo. En la visión por computadora, la red debe adaptarse al problema. \n",
    "\n",
    "Por lo tanto, disponemos de un sistema muy potente y eficiente, una vez entrenado, inferir un número de una imagen es casi sin costo ya que solo necesitamos pasar la imagen a través de la red una vez. Entonces podemos aplicarlo a problemas de gran escala reconociendo millones de números cada día.\n",
    "\n",
    "---\n",
    "\n",
    "\n",
    "### Import libraries :"
   ]
  },
  {
   "cell_type": "code",
   "execution_count": 1,
   "metadata": {},
   "outputs": [],
   "source": [
    "import time, copy, os\n",
    "import numpy as np\n",
    "import pandas as pd\n",
    "import matplotlib.pyplot as plt\n",
    "import seaborn as sns\n",
    "\n",
    "import torch\n",
    "import torch.nn.functional as F\n",
    "from torch import nn, optim\n",
    "from torch.utils.data.sampler import SubsetRandomSampler\n",
    "from torchvision import transforms, models\n",
    "\n",
    "from sklearn.model_selection import train_test_split\n",
    "from sklearn.metrics import confusion_matrix\n",
    "from sklearn.utils.multiclass import unique_labels\n",
    "\n",
    "from tqdm import tqdm"
   ]
  },
  {
   "cell_type": "code",
   "execution_count": 2,
   "metadata": {},
   "outputs": [],
   "source": [
    "dataset = pd.read_csv('./data/train.csv',dtype = np.float32)\n",
    "#test = pd.read_csv('./test.csv')"
   ]
  },
  {
   "cell_type": "markdown",
   "metadata": {},
   "source": [
    "## Observemos los datos"
   ]
  },
  {
   "cell_type": "markdown",
   "metadata": {},
   "source": [
    "_Ahora miremos a como estan los datos:_"
   ]
  },
  {
   "cell_type": "code",
   "execution_count": 3,
   "metadata": {},
   "outputs": [
    {
     "name": "stdout",
     "output_type": "stream",
     "text": [
      "<class 'pandas.core.frame.DataFrame'>\n",
      "RangeIndex: 42000 entries, 0 to 41999\n",
      "Columns: 785 entries, label to pixel783\n",
      "dtypes: float32(785)\n",
      "memory usage: 125.8 MB\n"
     ]
    }
   ],
   "source": [
    "dataset.info()"
   ]
  },
  {
   "cell_type": "markdown",
   "metadata": {},
   "source": [
    "Podemos ver que tenemos una gran quantidad de datos."
   ]
  },
  {
   "cell_type": "code",
   "execution_count": 7,
   "metadata": {},
   "outputs": [
    {
     "data": {
      "text/html": [
       "<div>\n",
       "<style scoped>\n",
       "    .dataframe tbody tr th:only-of-type {\n",
       "        vertical-align: middle;\n",
       "    }\n",
       "\n",
       "    .dataframe tbody tr th {\n",
       "        vertical-align: top;\n",
       "    }\n",
       "\n",
       "    .dataframe thead th {\n",
       "        text-align: right;\n",
       "    }\n",
       "</style>\n",
       "<table border=\"1\" class=\"dataframe\">\n",
       "  <thead>\n",
       "    <tr style=\"text-align: right;\">\n",
       "      <th></th>\n",
       "      <th>label</th>\n",
       "      <th>pixel0</th>\n",
       "      <th>pixel1</th>\n",
       "      <th>pixel2</th>\n",
       "      <th>pixel3</th>\n",
       "      <th>pixel4</th>\n",
       "      <th>pixel5</th>\n",
       "      <th>pixel6</th>\n",
       "      <th>pixel7</th>\n",
       "      <th>pixel8</th>\n",
       "      <th>...</th>\n",
       "      <th>pixel774</th>\n",
       "      <th>pixel775</th>\n",
       "      <th>pixel776</th>\n",
       "      <th>pixel777</th>\n",
       "      <th>pixel778</th>\n",
       "      <th>pixel779</th>\n",
       "      <th>pixel780</th>\n",
       "      <th>pixel781</th>\n",
       "      <th>pixel782</th>\n",
       "      <th>pixel783</th>\n",
       "    </tr>\n",
       "  </thead>\n",
       "  <tbody>\n",
       "    <tr>\n",
       "      <th>0</th>\n",
       "      <td>1.0</td>\n",
       "      <td>0.0</td>\n",
       "      <td>0.0</td>\n",
       "      <td>0.0</td>\n",
       "      <td>0.0</td>\n",
       "      <td>0.0</td>\n",
       "      <td>0.0</td>\n",
       "      <td>0.0</td>\n",
       "      <td>0.0</td>\n",
       "      <td>0.0</td>\n",
       "      <td>...</td>\n",
       "      <td>0.0</td>\n",
       "      <td>0.0</td>\n",
       "      <td>0.0</td>\n",
       "      <td>0.0</td>\n",
       "      <td>0.0</td>\n",
       "      <td>0.0</td>\n",
       "      <td>0.0</td>\n",
       "      <td>0.0</td>\n",
       "      <td>0.0</td>\n",
       "      <td>0.0</td>\n",
       "    </tr>\n",
       "    <tr>\n",
       "      <th>1</th>\n",
       "      <td>0.0</td>\n",
       "      <td>0.0</td>\n",
       "      <td>0.0</td>\n",
       "      <td>0.0</td>\n",
       "      <td>0.0</td>\n",
       "      <td>0.0</td>\n",
       "      <td>0.0</td>\n",
       "      <td>0.0</td>\n",
       "      <td>0.0</td>\n",
       "      <td>0.0</td>\n",
       "      <td>...</td>\n",
       "      <td>0.0</td>\n",
       "      <td>0.0</td>\n",
       "      <td>0.0</td>\n",
       "      <td>0.0</td>\n",
       "      <td>0.0</td>\n",
       "      <td>0.0</td>\n",
       "      <td>0.0</td>\n",
       "      <td>0.0</td>\n",
       "      <td>0.0</td>\n",
       "      <td>0.0</td>\n",
       "    </tr>\n",
       "    <tr>\n",
       "      <th>2</th>\n",
       "      <td>1.0</td>\n",
       "      <td>0.0</td>\n",
       "      <td>0.0</td>\n",
       "      <td>0.0</td>\n",
       "      <td>0.0</td>\n",
       "      <td>0.0</td>\n",
       "      <td>0.0</td>\n",
       "      <td>0.0</td>\n",
       "      <td>0.0</td>\n",
       "      <td>0.0</td>\n",
       "      <td>...</td>\n",
       "      <td>0.0</td>\n",
       "      <td>0.0</td>\n",
       "      <td>0.0</td>\n",
       "      <td>0.0</td>\n",
       "      <td>0.0</td>\n",
       "      <td>0.0</td>\n",
       "      <td>0.0</td>\n",
       "      <td>0.0</td>\n",
       "      <td>0.0</td>\n",
       "      <td>0.0</td>\n",
       "    </tr>\n",
       "    <tr>\n",
       "      <th>3</th>\n",
       "      <td>4.0</td>\n",
       "      <td>0.0</td>\n",
       "      <td>0.0</td>\n",
       "      <td>0.0</td>\n",
       "      <td>0.0</td>\n",
       "      <td>0.0</td>\n",
       "      <td>0.0</td>\n",
       "      <td>0.0</td>\n",
       "      <td>0.0</td>\n",
       "      <td>0.0</td>\n",
       "      <td>...</td>\n",
       "      <td>0.0</td>\n",
       "      <td>0.0</td>\n",
       "      <td>0.0</td>\n",
       "      <td>0.0</td>\n",
       "      <td>0.0</td>\n",
       "      <td>0.0</td>\n",
       "      <td>0.0</td>\n",
       "      <td>0.0</td>\n",
       "      <td>0.0</td>\n",
       "      <td>0.0</td>\n",
       "    </tr>\n",
       "    <tr>\n",
       "      <th>4</th>\n",
       "      <td>0.0</td>\n",
       "      <td>0.0</td>\n",
       "      <td>0.0</td>\n",
       "      <td>0.0</td>\n",
       "      <td>0.0</td>\n",
       "      <td>0.0</td>\n",
       "      <td>0.0</td>\n",
       "      <td>0.0</td>\n",
       "      <td>0.0</td>\n",
       "      <td>0.0</td>\n",
       "      <td>...</td>\n",
       "      <td>0.0</td>\n",
       "      <td>0.0</td>\n",
       "      <td>0.0</td>\n",
       "      <td>0.0</td>\n",
       "      <td>0.0</td>\n",
       "      <td>0.0</td>\n",
       "      <td>0.0</td>\n",
       "      <td>0.0</td>\n",
       "      <td>0.0</td>\n",
       "      <td>0.0</td>\n",
       "    </tr>\n",
       "  </tbody>\n",
       "</table>\n",
       "<p>5 rows × 785 columns</p>\n",
       "</div>"
      ],
      "text/plain": [
       "   label  pixel0  pixel1  pixel2  pixel3  pixel4  pixel5  pixel6  pixel7  \\\n",
       "0    1.0     0.0     0.0     0.0     0.0     0.0     0.0     0.0     0.0   \n",
       "1    0.0     0.0     0.0     0.0     0.0     0.0     0.0     0.0     0.0   \n",
       "2    1.0     0.0     0.0     0.0     0.0     0.0     0.0     0.0     0.0   \n",
       "3    4.0     0.0     0.0     0.0     0.0     0.0     0.0     0.0     0.0   \n",
       "4    0.0     0.0     0.0     0.0     0.0     0.0     0.0     0.0     0.0   \n",
       "\n",
       "   pixel8  ...  pixel774  pixel775  pixel776  pixel777  pixel778  pixel779  \\\n",
       "0     0.0  ...       0.0       0.0       0.0       0.0       0.0       0.0   \n",
       "1     0.0  ...       0.0       0.0       0.0       0.0       0.0       0.0   \n",
       "2     0.0  ...       0.0       0.0       0.0       0.0       0.0       0.0   \n",
       "3     0.0  ...       0.0       0.0       0.0       0.0       0.0       0.0   \n",
       "4     0.0  ...       0.0       0.0       0.0       0.0       0.0       0.0   \n",
       "\n",
       "   pixel780  pixel781  pixel782  pixel783  \n",
       "0       0.0       0.0       0.0       0.0  \n",
       "1       0.0       0.0       0.0       0.0  \n",
       "2       0.0       0.0       0.0       0.0  \n",
       "3       0.0       0.0       0.0       0.0  \n",
       "4       0.0       0.0       0.0       0.0  \n",
       "\n",
       "[5 rows x 785 columns]"
      ]
     },
     "execution_count": 7,
     "metadata": {},
     "output_type": "execute_result"
    }
   ],
   "source": [
    "dataset.head(5)"
   ]
  },
  {
   "cell_type": "markdown",
   "metadata": {},
   "source": [
    "Cada imagen es una linea de pixels, ademas tenemos para cada imagen el label que nos indica que numero es.\n",
    "\n",
    "Aca vemos un ejemblo dubujado."
   ]
  },
  {
   "cell_type": "code",
   "execution_count": 5,
   "metadata": {},
   "outputs": [
    {
     "data": {
      "image/png": "[encoded data removed]",
      "text/plain": [
       "<Figure size 432x288 with 1 Axes>"
      ]
     },
     "metadata": {
      "needs_background": "light"
     },
     "output_type": "display_data"
    }
   ],
   "source": [
    "def showImage(df, index):\n",
    "    #image = df.iloc[index]\n",
    "    image = dataset.iloc[index][1:].values.reshape(28,28)\n",
    "    plt.imshow(image,cmap='Greys')\n",
    "    plt.title(dataset['label'].iloc[index])\n",
    "showImage(dataset, 123)"
   ]
  },
  {
   "cell_type": "code",
   "execution_count": 6,
   "metadata": {},
   "outputs": [
    {
     "name": "stdout",
     "output_type": "stream",
     "text": [
      "An example of the digits we can find :\n"
     ]
    },
    {
     "data": {
      "image/png": "[encoded data removed]",
      "text/plain": [
       "<Figure size 1440x360 with 10 Axes>"
      ]
     },
     "metadata": {
      "needs_background": "light"
     },
     "output_type": "display_data"
    }
   ],
   "source": [
    "fig, ax = plt.subplots(ncols = 10,nrows =1, figsize = [20,5])\n",
    "print('An example of the digits we can find :')\n",
    "for i in range(10):\n",
    "    image = dataset[dataset['label']==i].iloc[0][1:].values.reshape(28,28)\n",
    "    ax[i].imshow(image,cmap='Greys',label=str(i))"
   ]
  },
  {
   "cell_type": "code",
   "execution_count": 7,
   "metadata": {},
   "outputs": [
    {
     "data": {
      "image/png": "[encoded data removed]",
      "text/plain": [
       "<Figure size 432x288 with 1 Axes>"
      ]
     },
     "metadata": {
      "needs_background": "light"
     },
     "output_type": "display_data"
    }
   ],
   "source": [
    "sns.distplot(dataset['label'])\n",
    "plt.title('Distribution of the different numbers')\n",
    "plt.xticks([x*0.975+0.1 for x in range(10)],[x for x in range(10)],rotation = 'horizontal')\n",
    "plt.show()"
   ]
  },
  {
   "cell_type": "markdown",
   "metadata": {},
   "source": [
    "Este grapho nos muestra que los numero estan en nombre comparable, no hay una categoria sobre-representada. Es importante verificar esto para que nuestro modelo no aprende estas particularidades. Es decir que queremos que nuestra modelo sea el mas general possible para que functiona el mejor possible."
   ]
  },
  {
   "cell_type": "code",
   "execution_count": 8,
   "metadata": {},
   "outputs": [
    {
     "name": "stdout",
     "output_type": "stream",
     "text": [
      "Number of nan values : 0\n"
     ]
    }
   ],
   "source": [
    "#check for nan values \n",
    "print(\"Number of nan values : %d\"%dataset.isnull().sum().sum())"
   ]
  },
  {
   "cell_type": "markdown",
   "metadata": {},
   "source": [
    "The dataset is clean, no hay valores falsas."
   ]
  },
  {
   "cell_type": "markdown",
   "metadata": {},
   "source": [
    "### $\\text{Ahora definemos nuestro modelo.}$\n",
    "\n",
    "__El modelo que nos vamos a implementar es LeNet-5__\n",
    "\n",
    "Este es el primero red neuronal convolucional conceptualizado por Yann LeCun un pionero francés en inteligencia artificial. \n",
    "\n",
    "Es un Graph Tranformer Network hecho por el reconocimiento de cheques bancarios. Usa redes Convolutional Neural Network character recognizers utilisando una technica de entrenamiento global. El estaba usado en la industria a leia millones de cheques cada dia con performancias mejores que las de humanos (+98% de reconovimiento)\n",
    "\n",
    "Esta technica es : \n",
    "- muy rapida\n",
    "- muy precisa\n",
    "- facilmente adaptable\n",
    "- mejora que otros méthodos\n",
    "\n",
    "__Architectura global :__\n",
    "\n",
    "- Input : 32*32 pixeles (Imagen)\n",
    "- Feature extractor\n",
    "\n",
    "   Tratando de asegurar la invariancia de cambio, escala y distorsión con dos herramientas:\n",
    "\n",
    "    -> Covolution\n",
    " \n",
    "    -> sub-sampling\n",
    "\n",
    "     El extractor de features es una combinación piramidal de los dos.\n",
    "    \n",
    "- Classifier (entrenable)\n",
    "\n",
    "   Fully connected Neural Network\n",
    "\n",
    "- Output : 0-9 numero -> la clase que esta predictada\n",
    "\n",
    "__Feature Extractor:__\n",
    "\n",
    "El tiene dos componentes :\n",
    "- capas de convolucion\n",
    "    $f\\circ g(x)=\\int f^{\\ast }(y)g(x+y)dy=f^{\\ast }(y)\\ast g(-y)$\n",
    "\n",
    "\n",
    "- capas de pooling"
   ]
  },
  {
   "attachments": {
    "image.png": {
     "image/png": "[encoded data removed]"
    }
   },
   "cell_type": "markdown",
   "metadata": {},
   "source": [
    "![./data/image.png](attachment:image.png)\n",
    "\n",
    "formula : $sigmoid(\\frac{a+b+c+d}{4}*k+b)$\n",
    "\n",
    "\n",
    "En le net se orgonisa asi:\n",
    "\n",
    "    Convolution -> Pooling -> Convolution -> Pooling\n",
    "\n",
    "\n",
    "Para mejorar la performancias, podemos usar:\n",
    "- Padding(añadir pixeles al rededor de la imagen),\n",
    "- Kernel sizes\n",
    "- Tipo de pooling (max, average)\n",
    "\n",
    "\n",
    "__Neural Network__\n",
    "\n",
    "Este parte del modelo es para tomar las decisiones. La parte antes le da las features extraídas y con estas se va a inferir un numero.\n",
    "\n",
    "Estos redes son muy generales y functionan bien para los planos de decisiones complicados. \n",
    "\n",
    "Parametros sobre cual podemos actuard:\n",
    "- function de loss\n",
    "- gradient descent optimizer y learning rate\n",
    "- function de scoring\n",
    "\n",
    "\n",
    "__Implementation__\n",
    "\n",
    "Para implementar esto yo uso Python y Pytorch un framework muy popular entre los investigadores. Es free, open-source and  muy flexible. "
   ]
  },
  {
   "cell_type": "code",
   "execution_count": 9,
   "metadata": {},
   "outputs": [],
   "source": [
    "# Dataset responsible for manipulating data for training as well as training tests.\n",
    "class DatasetMNIST(torch.utils.data.Dataset):\n",
    "    def __init__(self, data, transform=None):\n",
    "        self.data = data\n",
    "        self.transform = transform\n",
    "        \n",
    "    def __len__(self):\n",
    "        return len(self.data)\n",
    "    \n",
    "    def __getitem__(self, index):\n",
    "        item = self.data.iloc[index]\n",
    "                \n",
    "        image = item[1:].values.astype(np.uint8).reshape((28, 28))\n",
    "        label = item[0].astype('long')\n",
    "        \n",
    "        if self.transform is not None:\n",
    "            image = self.transform(image)\n",
    "            \n",
    "        return image, label\n"
   ]
  },
  {
   "cell_type": "code",
   "execution_count": 10,
   "metadata": {},
   "outputs": [
    {
     "name": "stdout",
     "output_type": "stream",
     "text": [
      "Length train: 37800\n",
      "Length valid: 4200\n"
     ]
    }
   ],
   "source": [
    "batch_size = 50\n",
    "\n",
    "trainDF, testDF = train_test_split(dataset,test_size=0.1)\n",
    "\n",
    "transform_train = transforms.Compose([\n",
    "    transforms.ToPILImage(),\n",
    "    transforms.Resize(64),\n",
    "   # transforms.RandomRotation(0, 0.5),\n",
    "    transforms.ToTensor(),\n",
    "    transforms.Normalize(mean=(0.5,), std=(0.5,))\n",
    "])\n",
    "\n",
    "\n",
    "transform_valid = transforms.Compose([\n",
    "    transforms.ToPILImage(),\n",
    "    transforms.Resize(64),\n",
    "    transforms.ToTensor(),\n",
    "    transforms.Normalize(mean=(0.5,), std=(0.5,))\n",
    "])\n",
    "\n",
    "\n",
    "# Creating datasets for training and validation\n",
    "train_data = DatasetMNIST(trainDF, transform=transform_train)\n",
    "valid_data = DatasetMNIST(testDF, transform=transform_valid)\n",
    "\n",
    "train_loader = torch.utils.data.DataLoader(train_data, batch_size=batch_size)\n",
    "valid_loader = torch.utils.data.DataLoader(valid_data, batch_size=batch_size)\n",
    "\n",
    "dataloaders= {'train' : train_loader, 'val' : valid_loader}#.size()\n",
    "\n",
    "print(f\"Length train: {len(train_data)}\")\n",
    "print(f\"Length valid: {len(valid_data)}\")"
   ]
  },
  {
   "cell_type": "markdown",
   "metadata": {},
   "source": [
    "### $\\underline{\\textbf{Defining our model}}$\n",
    "\n",
    "<hr style=\"height:2px;border:none;color:#333;background-color:#333;\"/>"
   ]
  },
  {
   "cell_type": "code",
   "execution_count": 16,
   "metadata": {},
   "outputs": [
    {
     "data": {
      "text/plain": [
       "504"
      ]
     },
     "execution_count": 16,
     "metadata": {},
     "output_type": "execute_result"
    }
   ],
   "source": [
    "14*6*6"
   ]
  },
  {
   "cell_type": "code",
   "execution_count": 17,
   "metadata": {},
   "outputs": [
    {
     "name": "stdout",
     "output_type": "stream",
     "text": [
      "Net(\n",
      "  (conv1): Sequential(\n",
      "    (0): Conv2d(1, 32, kernel_size=(5, 5), stride=(1, 1), padding=(2, 2))\n",
      "    (1): ReLU(inplace=True)\n",
      "    (2): MaxPool2d(kernel_size=2, stride=2, padding=0, dilation=1, ceil_mode=False)\n",
      "    (3): Conv2d(32, 14, kernel_size=(5, 5), stride=(1, 1), padding=(1, 1))\n",
      "    (4): ReLU(inplace=True)\n",
      "    (5): MaxPool2d(kernel_size=2, stride=2, padding=0, dilation=1, ceil_mode=False)\n",
      "  )\n",
      "  (fc): Sequential(\n",
      "    (0): Linear(in_features=3150, out_features=128, bias=True)\n",
      "    (1): Linear(in_features=128, out_features=10, bias=True)\n",
      "    (2): Dropout(p=0.01, inplace=False)\n",
      "  )\n",
      ")\n"
     ]
    }
   ],
   "source": [
    "#define the network model\n",
    "class Net(nn.Module):\n",
    "\n",
    "    '''\n",
    "    Inspired but LeNet-5\n",
    "    '''\n",
    "    \n",
    "    def __init__(self):\n",
    "        super(Net, self).__init__()\n",
    "        \n",
    "        self.conv1 = nn.Sequential(\n",
    "            nn.Conv2d(1, 32, kernel_size=5, stride=1, padding=2),\n",
    "            nn.ReLU(inplace=True),\n",
    "            nn.MaxPool2d(2, 2),\n",
    "            nn.Conv2d(32, 14, kernel_size=5, padding = 1),\n",
    "            nn.ReLU(inplace=True),\n",
    "            nn.MaxPool2d(2, 2)\n",
    "        )\n",
    "        \n",
    "        self.fc = nn.Sequential(\n",
    "            nn.Linear(3150, 128),\n",
    "            nn.Linear(128, 10),\n",
    "            nn.Dropout(p = 0.01)#dropout leads to strange results with 80+% performance when = 0.25 (when high?)\n",
    "        )\n",
    "        \n",
    "\n",
    "    def forward(self, x):\n",
    "        \n",
    "        x = self.conv1(x)\n",
    "        \n",
    "        x = x.view(x.size(0), -1)\n",
    "        \n",
    "        x = self.fc(x)\n",
    "        \n",
    "        return x\n",
    "    \n",
    "\n",
    "    def num_flat_features(self, x):\n",
    "        size = x.size()[1:]  # all dimensions except the batch dimension\n",
    "        num_features = 1\n",
    "        for s in size:\n",
    "            num_features *= s\n",
    "        return num_features\n",
    "\n",
    "\n",
    "model = Net()\n",
    "print(model)"
   ]
  },
  {
   "cell_type": "markdown",
   "metadata": {},
   "source": [
    "__Configuring Model__"
   ]
  },
  {
   "cell_type": "code",
   "execution_count": 18,
   "metadata": {},
   "outputs": [],
   "source": [
    "LEARNING_RATE = 0.0005\n",
    "\n",
    "criterion = nn.CrossEntropyLoss()\n",
    "#a classic stochastic gradient descent\n",
    "#optimizer = optim.SGD(model.parameters(), lr=LEARNING_RATE)\n",
    "#A more efficient RMSprop\n",
    "#optimizer = optim.RMSprop(model.parameters(), lr = LEARNING_RATE, alpha = 0.99, eps = 1e-08)\n",
    "optimizer = optim.RMSprop(model.parameters(), lr = LEARNING_RATE, alpha = 0.99, eps = 1e-08)"
   ]
  },
  {
   "cell_type": "markdown",
   "metadata": {},
   "source": [
    "_Note that the choice of the optimizer has a huge inpact on the execution time_ \n",
    "### $\\underline{\\textbf{Model Training}}$\n",
    "\n",
    "<hr style=\"height:2px;border:none;color:#333;background-color:#333;\"/>"
   ]
  },
  {
   "cell_type": "code",
   "execution_count": 19,
   "metadata": {},
   "outputs": [
    {
     "name": "stdout",
     "output_type": "stream",
     "text": [
      "Epoch: 1/3..  Training Loss: 0.215..  Validation Loss: 0.084..  Test Accuracy: 0.972\n",
      "Detected network improvement, saving current model\n",
      "Epoch: 2/3..  Training Loss: 0.083..  Validation Loss: 0.063..  Test Accuracy: 0.977\n",
      "Detected network improvement, saving current model\n",
      "Epoch: 3/3..  Training Loss: 0.064..  Validation Loss: 0.060..  Test Accuracy: 0.980\n",
      "Detected network improvement, saving current model\n"
     ]
    }
   ],
   "source": [
    "epochs = 3\n",
    "valid_loss_min = np.Inf\n",
    "train_losses, valid_losses = [], []\n",
    "history_accuracy = []\n",
    "\n",
    "for e in range(1, epochs+1):\n",
    "    running_loss = 0\n",
    "\n",
    "    for images, labels in train_loader:\n",
    "        \n",
    "        # Clear the gradients, do this because gradients are accumulated.\n",
    "        optimizer.zero_grad()\n",
    "        \n",
    "        # Forward pass, get our log-probabilities.\n",
    "        ps = model(images)\n",
    "        # Calculate the loss with the logps and the labels.\n",
    "        loss = criterion(ps, labels)\n",
    "        \n",
    "        # Turning loss back.\n",
    "        loss.backward()\n",
    "        \n",
    "        # Take an update step and few the new weights.\n",
    "        optimizer.step()\n",
    "        \n",
    "        running_loss += loss.item()\n",
    "    else:\n",
    "        valid_loss = 0\n",
    "        accuracy = 0\n",
    "        \n",
    "        # Turn off gradients for validation, saves memory and computations.\n",
    "        with torch.no_grad():\n",
    "            model.eval() # change the network to evaluation mode\n",
    "            for images, labels in valid_loader:\n",
    "                # Forward pass, get our log-probabilities.\n",
    "                #log_ps = model(images)\n",
    "                ps = model(images)\n",
    "                \n",
    "                # Calculating probabilities for each class.\n",
    "                #ps = torch.exp(log_ps)\n",
    "                \n",
    "                # Capturing the class more likely.\n",
    "                _, top_class = ps.topk(1, dim=1)\n",
    "                \n",
    "                # Verifying the prediction with the labels provided.\n",
    "                equals = top_class == labels.view(*top_class.shape)\n",
    "                \n",
    "                valid_loss += criterion(ps, labels)\n",
    "                accuracy += torch.mean(equals.type(torch.FloatTensor))\n",
    "                \n",
    "        model.train() # change the network to training mode\n",
    "        \n",
    "        train_losses.append(running_loss/len(train_loader))\n",
    "        valid_losses.append(valid_loss/len(valid_loader))\n",
    "        history_accuracy.append(accuracy/len(valid_loader))\n",
    "        \n",
    "        network_learned = valid_loss < valid_loss_min\n",
    "\n",
    "        if e == 1 or e % 5 == 0 or network_learned:\n",
    "            print(f\"Epoch: {e}/{epochs}.. \",\n",
    "                  f\"Training Loss: {running_loss/len(train_loader):.3f}.. \",\n",
    "                  f\"Validation Loss: {valid_loss/len(valid_loader):.3f}.. \",\n",
    "                  f\"Test Accuracy: {accuracy/len(valid_loader):.3f}\")\n",
    "        \n",
    "        if network_learned:\n",
    "            valid_loss_min = valid_loss\n",
    "            torch.save(model.state_dict(), 'model_mtl_mnist.pt')\n",
    "            print('Detected network improvement, saving current model')"
   ]
  },
  {
   "cell_type": "markdown",
   "metadata": {},
   "source": [
    "Esta solution funciona pero no es la mas efficiente. Lleguemos a un bueno resultado pero necessitamos muchos datos (mas que con la manera que sigue) y tiempo para hacer los calculos.\n",
    "\n",
    "---\n",
    "# Adaptive Learning\n",
    "\n",
    "Lo que es muy practico con redes neuronales convolucionales es que son modelos muy generales. Entonces se puede usar un modelo que sirve a reconocer perros, modificarle un poquito, re-entrenarlo para nuesto caso. \n",
    "\n",
    "Esto processo se llama adaptive learning, nos permite ganar mucho tiempo, mejores performancias. Ademas podemos disfrutar de esto sin tener capacidades de processo muy altas."
   ]
  },
  {
   "cell_type": "markdown",
   "metadata": {},
   "source": [
    "### Defining our model\n",
    "\n",
    "<hr style=\"height:2px;border:none;color:#333;background-color:#333;\"/>\n",
    "\n",
    "The model used here is the RESNET50 model. A convolutional neural network having some decent performances on the imageNet dataset.\n",
    "This network is pretrained, that implies we have to adapt it to our current problem that is digit recongnition. \n",
    "\n",
    "The pre-training is usefull for different reasons:\n",
    "\n",
    "- training is costly, hence we spare some time and ressources by not fully training it\n",
    "- The feature exctractor part of the network is adapted to extract general features adapted to another problem, that is to say it will prevent overfitting and a better generalization.\n",
    "\n",
    "So first we load the pre-trained model:"
   ]
  },
  {
   "cell_type": "code",
   "execution_count": 12,
   "metadata": {},
   "outputs": [
    {
     "name": "stderr",
     "output_type": "stream",
     "text": [
      "Using cache found in /home/bastienzimmermann/.cache/torch/hub/pytorch_vision_master\n"
     ]
    }
   ],
   "source": [
    "model = torch.hub.load('pytorch/vision', 'resnet50', pretrained=True)"
   ]
  },
  {
   "cell_type": "markdown",
   "metadata": {},
   "source": [
    "Then we change the input and output layers:\n",
    "\n",
    "- change the number of channels from 3 to one as we only have grayscale images\n",
    "- change the output of the fully connected layer to match the cardinality of classes"
   ]
  },
  {
   "cell_type": "code",
   "execution_count": 13,
   "metadata": {},
   "outputs": [],
   "source": [
    "#input layer\n",
    "model.conv1 = nn.Conv2d(1, 64, kernel_size=(7, 7), stride=(2, 2), padding=(3, 3), bias=False)\n",
    "#output layer\n",
    "model.fc = nn.Linear(2048, 10)"
   ]
  },
  {
   "cell_type": "code",
   "execution_count": 14,
   "metadata": {},
   "outputs": [],
   "source": [
    "model"
   ]
  },
  {
   "cell_type": "markdown",
   "metadata": {},
   "source": [
    "### Model Training\n",
    "\n",
    "\n",
    "_While the modeled is pre-trained, it is not trained to solve digit recognition, there still is some adaptive learning required._\n",
    "<hr style=\"height:2px;border:none;color:#333;background-color:#333;\"/>\n",
    "\n",
    "First off we define some usefull variables."
   ]
  },
  {
   "cell_type": "code",
   "execution_count": 15,
   "metadata": {},
   "outputs": [],
   "source": [
    "# Number of classes in the dataset\n",
    "num_classes = 10\n",
    "\n",
    "# Number of epochs to train for\n",
    "num_epochs = 2\n",
    "\n",
    "# Flag for feature extracting. When False, we finetune the whole model,\n",
    "#   when True we only update the reshaped layer params\n",
    "feature_extract = True\n",
    "\n",
    "\n",
    "is_inception = False\n",
    "\n",
    "\n",
    "device = torch.device(\"cuda:0\" if torch.cuda.is_available() else \"cpu\")\n",
    "\n",
    "\n",
    "criterion = nn.CrossEntropyLoss()\n",
    "\n",
    "optimizer = optim.SGD(model.parameters(), lr=0.001, momentum=0.9)\n",
    "\n"
   ]
  },
  {
   "cell_type": "code",
   "execution_count": 16,
   "metadata": {},
   "outputs": [
    {
     "name": "stderr",
     "output_type": "stream",
     "text": [
      "\r",
      "  0%|          | 0/37800 [00:00<?, ?it/s]"
     ]
    },
    {
     "name": "stdout",
     "output_type": "stream",
     "text": [
      "Epoch 0/1\n",
      "----------\n",
      "Phase: train\n"
     ]
    },
    {
     "name": "stderr",
     "output_type": "stream",
     "text": [
      "100%|██████████| 37800/37800 [56:33<00:00, 11.14it/s] \n"
     ]
    },
    {
     "name": "stdout",
     "output_type": "stream",
     "text": [
      "train Loss: 0.1819 Acc: 0.9478\n",
      "Phase: val\n"
     ]
    },
    {
     "name": "stderr",
     "output_type": "stream",
     "text": [
      "100%|██████████| 4200/4200 [01:23<00:00, 50.37it/s]\n"
     ]
    },
    {
     "name": "stdout",
     "output_type": "stream",
     "text": [
      "val Loss: 0.0438 Acc: 0.9871\n"
     ]
    },
    {
     "name": "stderr",
     "output_type": "stream",
     "text": [
      "  0%|          | 50/37800 [00:00<01:29, 423.10it/s]"
     ]
    },
    {
     "name": "stdout",
     "output_type": "stream",
     "text": [
      "\n",
      "Epoch 1/1\n",
      "----------\n",
      "Phase: train\n"
     ]
    },
    {
     "name": "stderr",
     "output_type": "stream",
     "text": [
      "100%|██████████| 37800/37800 [59:38<00:00, 10.56it/s] \n",
      "  0%|          | 0/4200 [00:00<?, ?it/s]"
     ]
    },
    {
     "name": "stdout",
     "output_type": "stream",
     "text": [
      "train Loss: 0.0243 Acc: 0.9929\n",
      "Phase: val\n"
     ]
    },
    {
     "name": "stderr",
     "output_type": "stream",
     "text": [
      "100%|██████████| 4200/4200 [01:02<00:00, 66.76it/s]\n"
     ]
    },
    {
     "name": "stdout",
     "output_type": "stream",
     "text": [
      "val Loss: 0.0335 Acc: 0.9898\n",
      "\n",
      "Training complete in 118m 47s\n",
      "Best val Acc: 0.989762\n"
     ]
    },
    {
     "data": {
      "text/plain": [
       "<All keys matched successfully>"
      ]
     },
     "execution_count": 16,
     "metadata": {},
     "output_type": "execute_result"
    }
   ],
   "source": [
    "since = time.time()\n",
    "\n",
    "val_acc_history = []\n",
    "\n",
    "best_model_wts = copy.deepcopy(model.state_dict())\n",
    "best_acc = 0.0\n",
    "\n",
    "for epoch in range(num_epochs):\n",
    "    print('Epoch {}/{}'.format(epoch, num_epochs - 1))\n",
    "    print('-' * 10)\n",
    "\n",
    "    # Each epoch has a training and validation phase\n",
    "    for phase in ['train', 'val']:\n",
    "        if phase == 'train':\n",
    "            model.train()  # Set model to training mode\n",
    "        else:\n",
    "            model.eval()   # Set model to evaluate mode\n",
    "\n",
    "        running_loss = 0.0\n",
    "        running_corrects = 0\n",
    "\n",
    "        #prepare tqdm\n",
    "        if phase == 'train':\n",
    "            print(\"Phase:\",phase)\n",
    "            t = tqdm(total=len(train_data)) # Initialise\n",
    "            \n",
    "        else:\n",
    "            print(\"Phase:\",phase)\n",
    "            t = tqdm(total=len(valid_data)) # Initialise\n",
    "            \n",
    "        # Iterate over data.\n",
    "        for inputs, labels in dataloaders[phase]:\n",
    "            t.update(batch_size)\n",
    "            inputs = inputs.to(device)\n",
    "            labels = labels.to(device)\n",
    "\n",
    "            # zero the parameter gradients\n",
    "            optimizer.zero_grad()\n",
    "\n",
    "            # forward\n",
    "            # track history if only in train\n",
    "            with torch.set_grad_enabled(phase == 'train'):\n",
    "                # Get model outputs and calculate loss\n",
    "                # Special case for inception because in training it has an auxiliary output. In train\n",
    "                #   mode we calculate the loss by summing the final output and the auxiliary output\n",
    "                #   but in testing we only consider the final output.\n",
    "                if is_inception and phase == 'train':\n",
    "                    # From https://discuss.pytorch.org/t/how-to-optimize-inception-model-with-auxiliary-classifiers/7958\n",
    "                    outputs, aux_outputs = model(inputs)\n",
    "                    loss1 = criterion(outputs, labels)\n",
    "                    loss2 = criterion(aux_outputs, labels)\n",
    "                    loss = loss1 + 0.4*loss2\n",
    "                else:\n",
    "                    outputs = model(inputs)\n",
    "                    loss = criterion(outputs, labels)\n",
    "\n",
    "                _, preds = torch.max(outputs, 1)\n",
    "\n",
    "                # backward + optimize only if in training phase\n",
    "                if phase == 'train':\n",
    "                    loss.backward()\n",
    "                    optimizer.step()\n",
    "\n",
    "            # statistics\n",
    "            running_loss += loss.item() * inputs.size(0)\n",
    "            running_corrects += torch.sum(preds == labels.data)\n",
    "        #close tqdm\n",
    "        t.close()\n",
    "        \n",
    "        epoch_loss = running_loss / len(dataloaders[phase].dataset)\n",
    "        epoch_acc = running_corrects.double() / len(dataloaders[phase].dataset)\n",
    "\n",
    "        print('{} Loss: {:.4f} Acc: {:.4f}'.format(phase, epoch_loss, epoch_acc))\n",
    "\n",
    "        # deep copy the model\n",
    "        if phase == 'val' and epoch_acc > best_acc:\n",
    "            best_acc = epoch_acc\n",
    "            best_model_wts = copy.deepcopy(model.state_dict())\n",
    "        if phase == 'val':\n",
    "            val_acc_history.append(epoch_acc)\n",
    "\n",
    "    print()\n",
    "\n",
    "time_elapsed = time.time() - since\n",
    "print('Training complete in {:.0f}m {:.0f}s'.format(time_elapsed // 60, time_elapsed % 60))\n",
    "print('Best val Acc: {:4f}'.format(best_acc))\n",
    "\n",
    "# load best model weights\n",
    "model.load_state_dict(best_model_wts)\n",
    "#return model, val_acc_history\n"
   ]
  },
  {
   "cell_type": "markdown",
   "metadata": {},
   "source": [
    "## Comparar los modelos y observar donde hay errores."
   ]
  },
  {
   "cell_type": "code",
   "execution_count": 17,
   "metadata": {},
   "outputs": [
    {
     "name": "stdout",
     "output_type": "stream",
     "text": [
      "99.4881 % error rate on validation set, i.e. 43 errors\n"
     ]
    }
   ],
   "source": [
    "wrongimageList = []\n",
    "trueLabelList = []\n",
    "wrongLabelList = []\n",
    "#predict the result for the notation set\n",
    "res = pd.DataFrame(columns = ['image','trueLabel','infLabel'])\n",
    "wrongDF = pd.DataFrame(columns = ['image','label'])\n",
    "for images, labels in valid_loader:\n",
    "    ps = model(images)\n",
    "    res = ps.detach().numpy()\n",
    "    _, top_class = ps.topk(1, dim=1)\n",
    "    falseIndexList = [i for i,x in enumerate(labels == top_class.flatten())  if x==0]\n",
    "    wrongimageList = wrongimageList + [np.array(images[i]) for i in falseIndexList]\n",
    "    trueLabelList = trueLabelList + [int(labels[i]) for i in falseIndexList]\n",
    "    wrongLabelList = wrongLabelList + [int(top_class.flatten()[i]) for i in falseIndexList]\n",
    "\n",
    "print(\"%.4f\"%(100-len(wrongimageList)/len(valid_loader)), '% error rate on validation set, i.e.',len(wrongimageList),'errors')"
   ]
  },
  {
   "cell_type": "code",
   "execution_count": 18,
   "metadata": {
    "scrolled": false
   },
   "outputs": [
    {
     "name": "stdout",
     "output_type": "stream",
     "text": [
      "An example digits wrongly labeled (True label - infered label):\n"
     ]
    },
    {
     "data": {
      "image/png": "[encoded data removed]",
      "text/plain": [
       "<Figure size 1440x774 with 50 Axes>"
      ]
     },
     "metadata": {
      "needs_background": "light"
     },
     "output_type": "display_data"
    }
   ],
   "source": [
    "#print wrongly labeled digits\n",
    "numRows = len(wrongimageList)//10+1\n",
    "numCols = len(wrongimageList) if len(wrongimageList) < 10 else 10\n",
    "fig, ax = plt.subplots(ncols = numCols,nrows = numRows, figsize = [20,len(wrongimageList)/4])\n",
    "print('An example digits wrongly labeled (True label - infered label):')\n",
    "for i in range(len(wrongimageList)):\n",
    "    if(numRows > 1):\n",
    "        currentAx = ax[i//10][i%10]\n",
    "    else:\n",
    "        currentAx = ax[i]\n",
    "    currentAx.axis('off')\n",
    "    currentAx.imshow(wrongimageList[i][0],cmap='Greys')\n",
    "    currentAx.set_title(\"true %d\"%(trueLabelList[i])+' - '+\"pred %d\"%(wrongLabelList[i]))"
   ]
  },
  {
   "cell_type": "markdown",
   "metadata": {},
   "source": [
    "_Asi vemos que los errores son quasi humanas. En numeros casos los numeros no serian detectables por humanos._"
   ]
  },
  {
   "cell_type": "code",
   "execution_count": 19,
   "metadata": {},
   "outputs": [],
   "source": [
    "def plot_confusion_matrix(y_true, y_pred, classes,\n",
    "                          normalize=False,\n",
    "                          title=None,\n",
    "                          cmap=plt.cm.Blues):\n",
    "    \"\"\"\n",
    "    This function prints and plots the confusion matrix.\n",
    "    Normalization can be applied by setting `normalize=True`.\n",
    "    \"\"\"\n",
    "    if not title:\n",
    "        if normalize:\n",
    "            title = 'Normalized confusion matrix'\n",
    "        else:\n",
    "            title = 'Confusion matrix, without normalization'\n",
    "\n",
    "    # Compute confusion matrix\n",
    "    cm = confusion_matrix(y_true, y_pred)\n",
    "    if normalize:\n",
    "        cm = cm.astype('float') / cm.sum(axis=1)[:, np.newaxis]\n",
    "        print(\"Normalized confusion matrix\")\n",
    "    else:\n",
    "        print('Confusion matrix, without normalization')\n",
    "\n",
    "    print(cm)\n",
    "\n",
    "    fig, ax = plt.subplots()\n",
    "    im = ax.imshow(cm, interpolation='nearest', cmap=cmap)\n",
    "    ax.figure.colorbar(im, ax=ax)\n",
    "    # We want to show all ticks...\n",
    "    ax.set(xticks=np.arange(cm.shape[1]),\n",
    "           yticks=np.arange(cm.shape[0]),\n",
    "           # ... and label them with the respective list entries\n",
    "           xticklabels=classes, yticklabels=classes,\n",
    "           title=title,\n",
    "           ylabel='True label',\n",
    "           xlabel='Predicted label')\n",
    "\n",
    "    # Rotate the tick labels and set their alignment.\n",
    "    plt.setp(ax.get_xticklabels(), rotation=45, ha=\"right\",\n",
    "             rotation_mode=\"anchor\")\n",
    "\n",
    "    # Loop over data dimensions and create text annotations.\n",
    "    fmt = '.2f' if normalize else 'd'\n",
    "    thresh = cm.max() / 2.\n",
    "    for i in range(cm.shape[0]):\n",
    "        for j in range(cm.shape[1]):\n",
    "            ax.text(j, i, format(cm[i, j], fmt),\n",
    "                    ha=\"center\", va=\"center\",\n",
    "                    color=\"white\" if cm[i, j] > thresh else \"black\")\n",
    "    fig.tight_layout()\n",
    "    return ax"
   ]
  },
  {
   "cell_type": "code",
   "execution_count": 20,
   "metadata": {
    "scrolled": false
   },
   "outputs": [
    {
     "name": "stdout",
     "output_type": "stream",
     "text": [
      "Confusion matrix, without normalization\n",
      "[[404   0   1   0   0   0   1   0   1   0]\n",
      " [  0 483   0   0   0   0   1   1   0   0]\n",
      " [  0   1 431   0   0   0   0   0   0   0]\n",
      " [  1   0   1 451   0   0   0   1   4   1]\n",
      " [  0   0   1   0 377   0   0   1   0   2]\n",
      " [  0   0   0   1   0 376   0   0   2   1]\n",
      " [  0   0   0   1   0   0 412   0   0   0]\n",
      " [  0   0   1   0   1   0   0 425   0   0]\n",
      " [  0   0   1   0   1   0   0   1 402   2]\n",
      " [  0   0   0   1   4   3   0   3   2 396]]\n"
     ]
    },
    {
     "data": {
      "image/png": "[encoded data removed]",
      "text/plain": [
       "<Figure size 432x288 with 2 Axes>"
      ]
     },
     "metadata": {
      "needs_background": "light"
     },
     "output_type": "display_data"
    }
   ],
   "source": [
    "np.set_printoptions(precision=2)\n",
    "\n",
    "y_test = []\n",
    "y_pred = []\n",
    "#predict the result for the notation set\n",
    "res = pd.DataFrame(columns = ['image','trueLabel','infLabel'])\n",
    "wrongDF = pd.DataFrame(columns = ['image','label'])\n",
    "for images, labels in valid_loader:\n",
    "    ps = model(images)\n",
    "    res = ps.detach().numpy()\n",
    "    _, top_class = ps.topk(1, dim=1)\n",
    "    \n",
    "    y_test.append(labels)\n",
    "    y_pred.append(top_class.flatten())\n",
    "\n",
    "    \n",
    "y_test = np.array([np.array(x) for x in y_test]).flatten()\n",
    "y_pred = np.array([np.array(x) for x in y_pred]).flatten()\n",
    "\n",
    "    \n",
    "plot_confusion_matrix(y_test, y_pred, classes=np.arange(10), normalize=False,\n",
    "                      title='Confusion matrix, without normalization')\n",
    "\n",
    "\n",
    "plt.show()"
   ]
  },
  {
   "cell_type": "markdown",
   "metadata": {},
   "source": [
    "Con estos resultados, podemos ver que adaptive learning es mucho mejor y nos permite ganar tiempo.\n",
    "\n",
    "---\n",
    "\n",
    "## $\\textbf{Computing results for grading set}$\n",
    "\n",
    "---"
   ]
  },
  {
   "cell_type": "code",
   "execution_count": 22,
   "metadata": {},
   "outputs": [],
   "source": [
    "notationDF = pd.read_csv('./test.csv',dtype = np.int8)"
   ]
  },
  {
   "cell_type": "code",
   "execution_count": 23,
   "metadata": {},
   "outputs": [],
   "source": [
    "# Dataset responsible for manipulating data for training as well as training tests.\n",
    "class DatasetMNISTNOTATION(torch.utils.data.Dataset):\n",
    "    def __init__(self, data, transform=None):\n",
    "        self.data = data\n",
    "        self.transform = transform\n",
    "        \n",
    "    def __len__(self):\n",
    "        return len(self.data)\n",
    "    \n",
    "    def __getitem__(self, index):\n",
    "        item = self.data.iloc[index]\n",
    "                \n",
    "        image = item.values.astype(np.uint8).reshape((28, 28))\n",
    "        \n",
    "        if self.transform is not None:\n",
    "            image = self.transform(image)\n",
    "            \n",
    "        return image\n"
   ]
  },
  {
   "cell_type": "code",
   "execution_count": 24,
   "metadata": {},
   "outputs": [],
   "source": [
    "notation_data = DatasetMNISTNOTATION(notationDF, transform=transform_train)\n",
    "\n",
    "notation_loader = torch.utils.data.DataLoader(notation_data, batch_size=1)"
   ]
  },
  {
   "cell_type": "code",
   "execution_count": 29,
   "metadata": {},
   "outputs": [],
   "source": [
    "#predict the result for the notation set\n",
    "resultList = []\n",
    "for image in notation_loader:\n",
    "    ps = model(image)\n",
    "    res = ps.detach().numpy()\n",
    "    resultList.append(np.argmax(res))\n",
    "    "
   ]
  },
  {
   "cell_type": "raw",
   "metadata": {},
   "source": [
    "# check result on some numbers\n",
    "i = random.randint(0,1000)\n",
    "image = notation_data[i][0]\n",
    "plt.imshow(image)\n",
    "plt.title(resultList[i])\n",
    "#ps = model(image)"
   ]
  },
  {
   "cell_type": "code",
   "execution_count": 30,
   "metadata": {},
   "outputs": [],
   "source": [
    "#write submission\n",
    "finalDF = pd.DataFrame(columns = ['ImageId','Label'])\n",
    "finalDF['Label'] = resultList\n",
    "finalDF.index.rename('ImageId')\n",
    "finalDF['ImageId'] = finalDF.index + 1\n",
    "finalDF.to_csv('submissionResNetNEWBRANDASD.csv', columns = ['ImageId','Label'], index = False)"
   ]
  },
  {
   "cell_type": "markdown",
   "metadata": {},
   "source": [
    "## Conclusion\n",
    "\n",
    "Con este ejemplo de reconocimento de numeros, hemos visto como functionan los redes neuronales convolucionales. Un caso de applicacion del red entrenado es el reconocimiento de codigos postales. Correo Argentino pordría usar este para renocer seguramente y rapidamente las dirrecciónes escritas en el correo.\n",
    "![title](data/reconocimentoCorreo.png)\n",
    "\n",
    "\n",
    "\n",
    "<hr style=\"height:2px;border:none;color:#333;background-color:#333;\"/>\n",
    "\n",
    "Si hay una cosa qu sobrevale todo es la universinalidad de este processo. Es decir que no solo se limita a el reconocimiento de numeros pero es muy facil adaptarlo a cualquier cosa y reconecer lo que queremos en imagenes.\n",
    "\n",
    "Por ejemplo Tesla usa estos redes con camaras para reconocer el camino, señales, personas ...  (usan Pytorch tambien)\n",
    "\n",
    "Una empresa que tiene un problema de reconocimento bastante complicado puede resorvalos siguiendo este methodo:\n",
    "- Crear un gran dataset composado de imagen -> decision\n",
    "- Conceptualizar y entrenar un red neuronal convolucional con este dataset\n",
    "- Usar las decisiones del red en el processo de produccion\n",
    "\n",
    "Por ejemplo un planta de tratamiento de residuos que quiere reconocer que tipo de residuo estan y separarlos.\n",
    "- sacar muchas photos de residuos indicar para cada photo el typo de residuo\n",
    "- Entrenar el red neuronal convolucional con estos datos\n",
    "- poner una camara que filmeo los residuos, da esta imagen al red y con el typo que indica el red actuar un mecanismo que empuje el resuduo en la buena direccíon"
   ]
  }
 ],
 "metadata": {
  "kernelspec": {
   "display_name": "Python 3",
   "language": "python",
   "name": "python3"
  },
  "language_info": {
   "codemirror_mode": {
    "name": "ipython",
    "version": 3
   },
   "file_extension": ".py",
   "mimetype": "text/x-python",
   "name": "python",
   "nbconvert_exporter": "python",
   "pygments_lexer": "ipython3",
   "version": "3.6.9"
  }
 },
 "nbformat": 4,
 "nbformat_minor": 2
}
