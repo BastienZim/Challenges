{
 "cells": [
  {
   "cell_type": "markdown",
   "metadata": {},
   "source": [
    "# $\\underline{\\textbf{Digits recognition : a Kaggle challenge}}$\n",
    "\n",
    "## $\\textbf{Bastien Zimmermann}$                        \n",
    "$\\textit{last modification : ??/??/????}$"
   ]
  },
  {
   "cell_type": "markdown",
   "metadata": {},
   "source": [
    "---\n",
    "# Introduction\n",
    "$\\\\\\text{This notebook is an attempt to solve the famous Kaggle Challenge : Digit Recognition with scikit learn dataset hand written dataset}$\n",
    "https://www.kaggle.com/c/house-prices-advanced-regression-techniques/overview/evaluation\n",
    "\n",
    "$\\text{Computer vision has applications in a lot a fields and is in itself a complex, intricate and worderfully interesting problem.}$\n",
    "\n",
    "$\\text{The task allows to set up for fundamentals of CNN (convolutional neural networks) through the use of a clean and easy dataset.}\\\\\\textit{Thank you scikit-learn!}$\n",
    "\n",
    "---\n",
    "\n",
    "First off let's just import libraries that we will need and load the data.\n",
    "\n",
    "### $\\textbf{Import libraries :}$"
   ]
  },
  {
   "cell_type": "code",
   "execution_count": 1,
   "metadata": {},
   "outputs": [],
   "source": [
    "import os\n",
    "import numpy as np\n",
    "import pandas as pd\n",
    "import seaborn as sns\n",
    "import matplotlib.pyplot as plt\n",
    "from math import ceil\n",
    "from skimage.transform import resize\n",
    "\n",
    "\n",
    "from tqdm import tqdm"
   ]
  },
  {
   "cell_type": "markdown",
   "metadata": {},
   "source": [
    "### $\\textbf{Load Data}$"
   ]
  },
  {
   "cell_type": "code",
   "execution_count": 5,
   "metadata": {},
   "outputs": [],
   "source": [
    "trainDF = pd.read_csv('./train.csv')\n",
    "#test = pd.read_csv('./test.csv')\n"
   ]
  },
  {
   "cell_type": "markdown",
   "metadata": {},
   "source": [
    "$\\underline{\\text{First off let's have a look at our dataset}}$"
   ]
  },
  {
   "cell_type": "code",
   "execution_count": 92,
   "metadata": {},
   "outputs": [
    {
     "name": "stdout",
     "output_type": "stream",
     "text": [
      "<class 'pandas.core.frame.DataFrame'>\n",
      "RangeIndex: 42000 entries, 0 to 41999\n",
      "Columns: 785 entries, label to pixel783\n",
      "dtypes: int64(785)\n",
      "memory usage: 251.5 MB\n"
     ]
    }
   ],
   "source": [
    "trainDF.info()"
   ]
  },
  {
   "cell_type": "code",
   "execution_count": 91,
   "metadata": {},
   "outputs": [
    {
     "data": {
      "text/html": [
       "<div>\n",
       "<style scoped>\n",
       "    .dataframe tbody tr th:only-of-type {\n",
       "        vertical-align: middle;\n",
       "    }\n",
       "\n",
       "    .dataframe tbody tr th {\n",
       "        vertical-align: top;\n",
       "    }\n",
       "\n",
       "    .dataframe thead th {\n",
       "        text-align: right;\n",
       "    }\n",
       "</style>\n",
       "<table border=\"1\" class=\"dataframe\">\n",
       "  <thead>\n",
       "    <tr style=\"text-align: right;\">\n",
       "      <th></th>\n",
       "      <th>label</th>\n",
       "      <th>pixel0</th>\n",
       "      <th>pixel1</th>\n",
       "      <th>pixel2</th>\n",
       "      <th>pixel3</th>\n",
       "      <th>pixel4</th>\n",
       "      <th>pixel5</th>\n",
       "      <th>pixel6</th>\n",
       "      <th>pixel7</th>\n",
       "      <th>pixel8</th>\n",
       "      <th>...</th>\n",
       "      <th>pixel774</th>\n",
       "      <th>pixel775</th>\n",
       "      <th>pixel776</th>\n",
       "      <th>pixel777</th>\n",
       "      <th>pixel778</th>\n",
       "      <th>pixel779</th>\n",
       "      <th>pixel780</th>\n",
       "      <th>pixel781</th>\n",
       "      <th>pixel782</th>\n",
       "      <th>pixel783</th>\n",
       "    </tr>\n",
       "  </thead>\n",
       "  <tbody>\n",
       "    <tr>\n",
       "      <th>0</th>\n",
       "      <td>1</td>\n",
       "      <td>0</td>\n",
       "      <td>0</td>\n",
       "      <td>0</td>\n",
       "      <td>0</td>\n",
       "      <td>0</td>\n",
       "      <td>0</td>\n",
       "      <td>0</td>\n",
       "      <td>0</td>\n",
       "      <td>0</td>\n",
       "      <td>...</td>\n",
       "      <td>0</td>\n",
       "      <td>0</td>\n",
       "      <td>0</td>\n",
       "      <td>0</td>\n",
       "      <td>0</td>\n",
       "      <td>0</td>\n",
       "      <td>0</td>\n",
       "      <td>0</td>\n",
       "      <td>0</td>\n",
       "      <td>0</td>\n",
       "    </tr>\n",
       "    <tr>\n",
       "      <th>1</th>\n",
       "      <td>0</td>\n",
       "      <td>0</td>\n",
       "      <td>0</td>\n",
       "      <td>0</td>\n",
       "      <td>0</td>\n",
       "      <td>0</td>\n",
       "      <td>0</td>\n",
       "      <td>0</td>\n",
       "      <td>0</td>\n",
       "      <td>0</td>\n",
       "      <td>...</td>\n",
       "      <td>0</td>\n",
       "      <td>0</td>\n",
       "      <td>0</td>\n",
       "      <td>0</td>\n",
       "      <td>0</td>\n",
       "      <td>0</td>\n",
       "      <td>0</td>\n",
       "      <td>0</td>\n",
       "      <td>0</td>\n",
       "      <td>0</td>\n",
       "    </tr>\n",
       "  </tbody>\n",
       "</table>\n",
       "<p>2 rows × 785 columns</p>\n",
       "</div>"
      ],
      "text/plain": [
       "   label  pixel0  pixel1  pixel2  pixel3  pixel4  pixel5  pixel6  pixel7  \\\n",
       "0      1       0       0       0       0       0       0       0       0   \n",
       "1      0       0       0       0       0       0       0       0       0   \n",
       "\n",
       "   pixel8  ...  pixel774  pixel775  pixel776  pixel777  pixel778  pixel779  \\\n",
       "0       0  ...         0         0         0         0         0         0   \n",
       "1       0  ...         0         0         0         0         0         0   \n",
       "\n",
       "   pixel780  pixel781  pixel782  pixel783  \n",
       "0         0         0         0         0  \n",
       "1         0         0         0         0  \n",
       "\n",
       "[2 rows x 785 columns]"
      ]
     },
     "execution_count": 91,
     "metadata": {},
     "output_type": "execute_result"
    }
   ],
   "source": [
    "trainDF.head(2)"
   ]
  },
  {
   "cell_type": "markdown",
   "metadata": {},
   "source": [
    "$\\text{The pictures are encoded pixel by pixel, we can easily gather them in arrays and pyplot works well around those.}$"
   ]
  },
  {
   "cell_type": "code",
   "execution_count": 88,
   "metadata": {},
   "outputs": [
    {
     "data": {
      "image/png": "[encoded data removed]",
      "text/plain": [
       "<Figure size 432x288 with 1 Axes>"
      ]
     },
     "metadata": {
      "needs_background": "light"
     },
     "output_type": "display_data"
    }
   ],
   "source": [
    "def showImage( index):\n",
    "    '''\n",
    "        A little function to check the label visually.\n",
    "    '''\n",
    "    image = trainDF.iloc[index][1:].values.reshape(28,28)\n",
    "    plt.imshow(image,cmap='Greys')\n",
    "    plt.title(trainDF['label'].iloc[index])\n",
    "showImage(123)"
   ]
  },
  {
   "cell_type": "code",
   "execution_count": 87,
   "metadata": {},
   "outputs": [
    {
     "name": "stdout",
     "output_type": "stream",
     "text": [
      "An example of the digits we can find :\n"
     ]
    },
    {
     "data": {
      "image/png": "[encoded data removed]",
      "text/plain": [
       "<Figure size 1440x360 with 10 Axes>"
      ]
     },
     "metadata": {
      "needs_background": "light"
     },
     "output_type": "display_data"
    }
   ],
   "source": [
    "fig, ax = plt.subplots(ncols = 10,nrows =1, figsize = [20,5])\n",
    "print('An example of the digits we can find :')\n",
    "for i in range(10):\n",
    "    image = trainDF[trainDF['label']==i].iloc[0][1:].values.reshape(28,28)\n",
    "    ax[i].imshow(image,cmap='Greys',label=str(i))"
   ]
  },
  {
   "cell_type": "code",
   "execution_count": 134,
   "metadata": {},
   "outputs": [
    {
     "data": {
      "image/png": "[encoded data removed]",
      "text/plain": [
       "<Figure size 432x288 with 1 Axes>"
      ]
     },
     "metadata": {
      "needs_background": "light"
     },
     "output_type": "display_data"
    }
   ],
   "source": [
    "sns.distplot(trainDF['label'])\n",
    "plt.title('Distribution of the different numbers')\n",
    "plt.xticks([x*0.975+0.1 for x in range(10)],[x for x in range(10)],rotation = 'horizontal')\n",
    "plt.show()"
   ]
  },
  {
   "cell_type": "code",
   "execution_count": 101,
   "metadata": {},
   "outputs": [
    {
     "name": "stdout",
     "output_type": "stream",
     "text": [
      "(array([0, 1, 2, 3, 4, 5, 6, 7, 8, 9]), <a list of 10 Text xticklabel objects>)\n"
     ]
    },
    {
     "data": {
      "image/png": "[encoded data removed]",
      "text/plain": [
       "<Figure size 432x288 with 1 Axes>"
      ]
     },
     "metadata": {
      "needs_background": "light"
     },
     "output_type": "display_data"
    }
   ],
   "source": [
    "trainDF.groupby('label').count()['pixel0'].plot(x='label',kind = 'bar')\n",
    "plt.ylabel('count')\n",
    "plt.xticks(rotation = 'horizontal')\n",
    "plt.title('Distribution of labels')\n",
    "print(plt.xticks())\n",
    "plt.show()"
   ]
  },
  {
   "cell_type": "markdown",
   "metadata": {},
   "source": [
    "$\\text{It is notable that there is a sufficient number of each number in the dataset, however the 5 is less frequent.}$"
   ]
  },
  {
   "cell_type": "code",
   "execution_count": 8,
   "metadata": {},
   "outputs": [
    {
     "data": {
      "text/plain": [
       "0"
      ]
     },
     "execution_count": 8,
     "metadata": {},
     "output_type": "execute_result"
    }
   ],
   "source": [
    "#check for nan values \n",
    "trainDF.isnull().sum().sum()"
   ]
  },
  {
   "cell_type": "markdown",
   "metadata": {},
   "source": [
    "$\\text{The dataset is clean}$"
   ]
  },
  {
   "cell_type": "markdown",
   "metadata": {},
   "source": [
    "### $\\text{Define the function useful in our model}$"
   ]
  },
  {
   "cell_type": "code",
   "execution_count": 9,
   "metadata": {},
   "outputs": [],
   "source": [
    "#define the rectified linear unit function\n",
    "relu = lambda x: (x+abs(x))/2\n",
    "\n",
    "#convolve(data, kernel)\n",
    "def convolution_layer(image, filt):\n",
    "    temp = convolve(image, filt)\n",
    "    filtered = relu(temp)\n",
    "    return (temp, filtered)\n",
    "\n",
    "def convolved(image,kernel):\n",
    "    return(convolve(image,kernel))\n",
    "\n",
    "def maxPooling(image, size = 2):#problem with layer limits\n",
    "    res = skimage.measure.block_reduce(image, (size,size), np.max)\n",
    "    return(res)\n",
    "\n",
    "def softmax(x):\n",
    "    e_x = np.exp(x)\n",
    "    return (e_x / sum(e_x))\n",
    "\n",
    "def lossFunc(x, label):#categorical cross entropy loss (softmax + cross entropy)\n",
    "    return (-np.sum(label * np.log(x)))\n",
    "\n",
    "\n",
    "\n",
    "def convolution(image, filt, bias, s=1):\n",
    "    '''\n",
    "    Confolves `filt` over `image` using stride `s`\n",
    "    '''\n",
    "    (n_f, n_c_f, f, _) = filt.shape # filter dimensions\n",
    "    n_c, in_dim, _ = image.shape # image dimensions\n",
    "    \n",
    "    out_dim = int((in_dim - f)/s)+1 # calculate output dimensions\n",
    "    \n",
    "    # ensure that the filter dimensions match the dimensions of the input image\n",
    "    assert n_c == n_c_f, \"Dimensions of filter must match dimensions of input image\"\n",
    "    \n",
    "    out = np.zeros((n_f,out_dim,out_dim)) # create the matrix to hold the values of the convolution operation\n",
    "    \n",
    "    # convolve each filter over the image\n",
    "    for curr_f in range(n_f):\n",
    "        curr_y = out_y = 0\n",
    "        # move filter vertically across the image\n",
    "        while curr_y + f <= in_dim:\n",
    "            curr_x = out_x = 0\n",
    "            # move filter horizontally across the image \n",
    "            while curr_x + f <= in_dim:\n",
    "                # perform the convolution operation and add the bias\n",
    "                out[curr_f, out_y, out_x] = np.sum(filt[curr_f] * image[:,curr_y:curr_y+f, curr_x:curr_x+f]) + bias[curr_f]\n",
    "                curr_x += s\n",
    "                out_x += 1\n",
    "            curr_y += s\n",
    "            out_y += 1\n",
    "        \n",
    "    return out\n",
    "\n",
    "def maxpool(image, f=2, s=2):\n",
    "    '''\n",
    "    Downsample input `image` using a kernel size of `f` and a stride of `s`\n",
    "    '''\n",
    "    n_c, h_prev, w_prev = image.shape\n",
    "    \n",
    "    # calculate output dimensions after the maxpooling operation.\n",
    "    h = int((h_prev - f)/s)+1 \n",
    "    w = int((w_prev - f)/s)+1\n",
    "    \n",
    "    # create a matrix to hold the values of the maxpooling operation.\n",
    "    downsampled = np.zeros((n_c, h, w)) \n",
    "    \n",
    "    # slide the window over every part of the image using stride s. Take the maximum value at each step.\n",
    "    for i in range(n_c):\n",
    "        curr_y = out_y = 0\n",
    "        # slide the max pooling window vertically across the image\n",
    "        while curr_y + f <= h_prev:\n",
    "            curr_x = out_x = 0\n",
    "            # slide the max pooling window horizontally across the image\n",
    "            while curr_x + f <= w_prev:\n",
    "                # choose the maximum value within the window at each step and store it to the output matrix\n",
    "                downsampled[i, out_y, out_x] = np.max(image[i, curr_y:curr_y+f, curr_x:curr_x+f])\n",
    "                curr_x += s\n",
    "                out_x += 1\n",
    "            curr_y += s\n",
    "            out_y += 1\n",
    "    return downsampled"
   ]
  },
  {
   "cell_type": "code",
   "execution_count": 10,
   "metadata": {},
   "outputs": [],
   "source": [
    "def initializeFilter(size, scale = 1.0):\n",
    "    '''\n",
    "    Initialize filter using a normal distribution with and a \n",
    "    standard deviation inversely proportional the square root of the number of units\n",
    "    '''\n",
    "    stddev = scale/np.sqrt(np.prod(size))\n",
    "    return np.random.normal(loc = 0, scale = stddev, size = size)\n",
    "\n",
    "def initializeWeight(size):\n",
    "    '''\n",
    "    Initialize weights with a random normal distribution\n",
    "    '''\n",
    "    return np.random.standard_normal(size=size) * 0.01"
   ]
  },
  {
   "cell_type": "markdown",
   "metadata": {},
   "source": [
    "###  $\\text{Define backward }$"
   ]
  },
  {
   "cell_type": "code",
   "execution_count": 11,
   "metadata": {},
   "outputs": [],
   "source": [
    "#adapted and modified from https://towardsdatascience.com/convolutional-neural-networks-from-the-ground-up-c67bb41454e1\n",
    "def convolutionBackward(dconv_prev, conv_in, filt, s):\n",
    "    '''\n",
    "    Backpropagation through a convolutional layer. \n",
    "    '''\n",
    "    (n_f, n_c, f, _) = filt.shape\n",
    "    (_, orig_dim, _) = conv_in.shape\n",
    "    ## initialize derivatives\n",
    "    dout = np.zeros(conv_in.shape) \n",
    "    dfilt = np.zeros(filt.shape)\n",
    "    dbias = np.zeros((n_f,1))\n",
    "    for curr_f in range(n_f):\n",
    "        # loop through all filters\n",
    "        curr_y = out_y = 0\n",
    "        while curr_y + f <= orig_dim:\n",
    "            curr_x = out_x = 0\n",
    "            while curr_x + f <= orig_dim:\n",
    "                # loss gradient of filter (used to update the filter)\n",
    "                dfilt[curr_f] += dconv_prev[curr_f, out_y, out_x] * conv_in[:, curr_y:curr_y+f, curr_x:curr_x+f]\n",
    "                # loss gradient of the input to the convolution operation (conv1 in the case of this network)\n",
    "                dout[:, curr_y:curr_y+f, curr_x:curr_x+f] += dconv_prev[curr_f, out_y, out_x] * filt[curr_f] \n",
    "                curr_x += s\n",
    "                out_x += 1\n",
    "            curr_y += s\n",
    "            out_y += 1\n",
    "        # loss gradient of the bias\n",
    "        dbias[curr_f] = np.sum(dconv_prev[curr_f])\n",
    "    \n",
    "    return dout, dfilt, dbias\n",
    "\n",
    "\n",
    "def maxpoolBackward(dpool, orig, f = 2, s = 2):\n",
    "    '''\n",
    "    Backpropagation through a maxpooling layer. The gradients are passed through the indices of greatest value in the original maxpooling during the forward step.\n",
    "    '''\n",
    "    (n_c, orig_dim, _) = orig.shape\n",
    "    \n",
    "    dout = np.zeros(orig.shape)\n",
    "    \n",
    "    for curr_c in range(n_c):\n",
    "        curr_y = out_y = 0\n",
    "        while curr_y + f <= orig_dim:\n",
    "            curr_x = out_x = 0\n",
    "            while curr_x + f <= orig_dim:\n",
    "                # obtain index of largest value in input for current window\n",
    "                arr = orig[curr_c, curr_y:curr_y+f, curr_x:curr_x+f]\n",
    "                (a, b) = np.unravel_index(np.nanargmax(arr), arr.shape)\n",
    "                dout[curr_c, curr_y+a, curr_x+b] = dpool[curr_c, out_y, out_x]\n",
    "                \n",
    "                curr_x += s\n",
    "                out_x += 1\n",
    "            curr_y += s\n",
    "            out_y += 1\n",
    "        \n",
    "    return dout"
   ]
  },
  {
   "cell_type": "markdown",
   "metadata": {},
   "source": [
    "### $\\text{Forward + backward}$\n",
    "\n",
    "$\\text{}$"
   ]
  },
  {
   "cell_type": "code",
   "execution_count": 12,
   "metadata": {},
   "outputs": [],
   "source": [
    "#adapted and modified from https://towardsdatascience.com/convolutional-neural-networks-from-the-ground-up-c67bb41454e1\n",
    "#modified\n",
    "def conv(image, label, params, conv_s, pool_f, pool_s):\n",
    "    \n",
    "    [f1, f2, w1, w2, b1, b2, b3, b4] = params \n",
    "    \n",
    "    ################################################\n",
    "    ############## Forward Operation ###############\n",
    "    ################################################\n",
    "    #convolve + relu first one\n",
    "    conv1 = convolution(image, f1, b1, conv_s)#convolve(image, f1)\n",
    "    conv1 = relu(conv1)\n",
    "\n",
    "    pooled1 = maxpool(conv1, pool_f, pool_s)\n",
    "    (nf2, dim2, _) = pooled1.shape\n",
    "    flatpool1 = pooled1.reshape((nf2 * dim2 * dim2, 1)) # flatten pooled layer\n",
    "\n",
    "     #convolve + relu second one\n",
    "    conv2 = convolution(pooled1, f2, b2, conv_s)#convolve(conv1, f1)\n",
    "    conv2 = relu(conv2)\n",
    "\n",
    "    pooled2 = maxpool(conv2, pool_f, pool_s)#maxPooling(conv2, size = 2)#pool_f, pool_s ???\n",
    "\n",
    "    (nf2, dim2, _) = pooled2.shape\n",
    "    flatpool2 = pooled2.reshape((nf2 * dim2 * dim2, 1)) # flatten pooled layer\n",
    "\n",
    "    hidden = relu(w1.dot(flatpool2) + b3) # first dense layer + relu\n",
    "\n",
    "    out = w2.dot(hidden) + b4 # second dense layer\n",
    "\n",
    "    probs = softmax(out) # predict class probabilities with the softmax activation function\n",
    "\n",
    "\n",
    "    ################################################\n",
    "    #################### Loss ######################\n",
    "    ################################################\n",
    "    loss = 0\n",
    "    loss = lossFunc(probs, label) # categorical cross-entropy loss\n",
    "\n",
    "    ################################################\n",
    "    ############# Backward Operation ###############\n",
    "    ################################################\n",
    "    #NN -> pool2 -> conv2 -> pool1 -> conv1\n",
    "    dout = probs - label # derivative of loss w.r.t. final dense layer output\n",
    "    dw2 = dout.dot(hidden.T) # loss gradient of final dense layer weights\n",
    "    db4 = np.sum(dout, axis = 1).reshape(b4.shape) # loss gradient of final dense layer biases\n",
    "\n",
    "    dhidden = relu(w2.T.dot(dout)) # loss gradient of first dense layer outputs + relu\n",
    "\n",
    "    dw1 = dhidden.dot(flatpool2.T)\n",
    "    db3 = np.sum(dhidden, axis = 1).reshape(b3.shape)\n",
    "\n",
    "    dfc2 = w1.T.dot(dhidden) # loss gradients of fully-connected layer (pooling layer)\n",
    "    dpool2 = dfc2.reshape(pooled2.shape) # reshape fully connected into dimensions of pooling layer\n",
    "\n",
    "    dconv2 = maxpoolBackward(dpool2, conv2, pool_f, pool_s) # backprop through the max-pooling layer(only neurons with highest activation in window get updated)\n",
    "    dconv2 = relu(dconv2) # backpropagate through ReLU\n",
    "\n",
    "    #---que rajoute-t-on ici ?????????????\n",
    "    dpool1, df2, db2 = convolutionBackward(dconv2, pooled1, f2, conv_s)\n",
    "    #dpool1= relu(dpool1) # backpropagate through ReLU ->not necessary ?????????\n",
    "    #dpool1, df1,df3 = #??convolutionBackward(dconv2, pooled1, f2, conv_s)\n",
    "    #dpool2 = dfc.reshape(pooled.shape)\n",
    "\n",
    "    dconv1 = maxpoolBackward(dpool1, conv1, pool_f, pool_s) \n",
    "    dconv1= relu(dconv1) # backpropagate through ReLU\n",
    "\n",
    "    dimage, df1, db1 = convolutionBackward(dconv1, image, f1, conv_s) # backpropagate previous gradient through first convolutional layer.\n",
    "\n",
    "    grads = [df1, df2, dw1, dw2, db1, db2, db3, db4] \n",
    "    \n",
    "    return grads, loss"
   ]
  },
  {
   "cell_type": "code",
   "execution_count": 13,
   "metadata": {},
   "outputs": [],
   "source": [
    "#i will try another thing before (a more classic approach ?)\n",
    "def adamGD(batch, num_classes, lr, dim, n_c, beta1, beta2, params, cost):\n",
    "    '''\n",
    "    update the parameters through Adam gradient descnet.\n",
    "    '''\n",
    "    [f1, f2, w3, w4, b1, b2, b3, b4] = params\n",
    "    \n",
    "    X = batch[:,0:-1] # get batch inputs\n",
    "    #print(type(batch),type(dim),type(n_c))\n",
    "    #print('dim',dim,type(dim))\n",
    "    X = X.reshape(len(batch), n_c, dim, dim)\n",
    "    Y = batch[:,-1] # get batch labels\n",
    "    \n",
    "    cost_ = 0\n",
    "    batch_size = len(batch)\n",
    "    \n",
    "    # initialize gradients and momentum,RMS params\n",
    "    df1 = np.zeros(f1.shape)\n",
    "    df2 = np.zeros(f2.shape)\n",
    "    dw3 = np.zeros(w3.shape)\n",
    "    dw4 = np.zeros(w4.shape)\n",
    "    db1 = np.zeros(b1.shape)\n",
    "    db2 = np.zeros(b2.shape)\n",
    "    db3 = np.zeros(b3.shape)\n",
    "    db4 = np.zeros(b4.shape)\n",
    "    \n",
    "    v1 = np.zeros(f1.shape)\n",
    "    v2 = np.zeros(f2.shape)\n",
    "    v3 = np.zeros(w3.shape)\n",
    "    v4 = np.zeros(w4.shape)\n",
    "    bv1 = np.zeros(b1.shape)\n",
    "    bv2 = np.zeros(b2.shape)\n",
    "    bv3 = np.zeros(b3.shape)\n",
    "    bv4 = np.zeros(b4.shape)\n",
    "    \n",
    "    s1 = np.zeros(f1.shape)\n",
    "    s2 = np.zeros(f2.shape)\n",
    "    s3 = np.zeros(w3.shape)\n",
    "    s4 = np.zeros(w4.shape)\n",
    "    bs1 = np.zeros(b1.shape)\n",
    "    bs2 = np.zeros(b2.shape)\n",
    "    bs3 = np.zeros(b3.shape)\n",
    "    bs4 = np.zeros(b4.shape)\n",
    "    \n",
    "    for i in range(batch_size):\n",
    "        \n",
    "        x = X[i]\n",
    "        y = np.eye(num_classes)[int(Y[i])].reshape(num_classes, 1) # convert label to one-hot\n",
    "        \n",
    "        # Collect Gradients for training example\n",
    "        grads, loss = conv(x, y, params, 1, 2, 2)\n",
    "        [df1_, df2_, dw3_, dw4_, db1_, db2_, db3_, db4_] = grads\n",
    "        \n",
    "        df1+=df1_\n",
    "        db1+=db1_\n",
    "        df2+=df2_\n",
    "        db2+=db2_\n",
    "        dw3+=dw3_\n",
    "        db3+=db3_\n",
    "        dw4+=dw4_\n",
    "        db4+=db4_\n",
    "\n",
    "        cost_+= loss\n",
    "\n",
    "    # Parameter Update  \n",
    "        \n",
    "    v1 = beta1*v1 + (1-beta1)*df1/batch_size # momentum update\n",
    "    s1 = beta2*s1 + (1-beta2)*(df1/batch_size)**2 # RMSProp update\n",
    "    f1 -= lr * v1/np.sqrt(s1+1e-7) # combine momentum and RMSProp to perform update with Adam\n",
    "    \n",
    "    bv1 = beta1*bv1 + (1-beta1)*db1/batch_size\n",
    "    bs1 = beta2*bs1 + (1-beta2)*(db1/batch_size)**2\n",
    "    b1 -= lr * bv1/np.sqrt(bs1+1e-7)\n",
    "   \n",
    "    v2 = beta1*v2 + (1-beta1)*df2/batch_size\n",
    "    s2 = beta2*s2 + (1-beta2)*(df2/batch_size)**2\n",
    "    f2 -= lr * v2/np.sqrt(s2+1e-7)\n",
    "                       \n",
    "    bv2 = beta1*bv2 + (1-beta1) * db2/batch_size\n",
    "    bs2 = beta2*bs2 + (1-beta2)*(db2/batch_size)**2\n",
    "    b2 -= lr * bv2/np.sqrt(bs2+1e-7)\n",
    "    \n",
    "    v3 = beta1*v3 + (1-beta1) * dw3/batch_size\n",
    "    s3 = beta2*s3 + (1-beta2)*(dw3/batch_size)**2\n",
    "    w3 -= lr * v3/np.sqrt(s3+1e-7)\n",
    "    \n",
    "    bv3 = beta1*bv3 + (1-beta1) * db3/batch_size\n",
    "    bs3 = beta2*bs3 + (1-beta2)*(db3/batch_size)**2\n",
    "    b3 -= lr * bv3/np.sqrt(bs3+1e-7)\n",
    "    \n",
    "    v4 = beta1*v4 + (1-beta1) * dw4/batch_size\n",
    "    s4 = beta2*s4 + (1-beta2)*(dw4/batch_size)**2\n",
    "    w4 -= lr * v4 / np.sqrt(s4+1e-7)\n",
    "    \n",
    "    bv4 = beta1*bv4 + (1-beta1)*db4/batch_size\n",
    "    bs4 = beta2*bs4 + (1-beta2)*(db4/batch_size)**2\n",
    "    b4 -= lr * bv4 / np.sqrt(bs4+1e-7)\n",
    "    \n",
    "    \n",
    "    cost_ = cost_/batch_size\n",
    "    cost.append(cost_)\n",
    "\n",
    "    params = [f1, f2, w3, w4, b1, b2, b3, b4]\n",
    "    \n",
    "    return params, cost"
   ]
  },
  {
   "cell_type": "code",
   "execution_count": 14,
   "metadata": {},
   "outputs": [],
   "source": [
    "def train(train_data, params, num_classes = 10, lr = 0.01, beta1 = 0.95,\n",
    "          beta2 = 0.99, img_dim = 28, img_depth = 1, f = 5, num_filt1 = 8,\n",
    "          num_filt2 = 8, batch_size = 32, num_epochs = 2):\n",
    "\n",
    "    \n",
    "    np.random.shuffle(train_data)#shuffle the training data\n",
    "\n",
    "    cost = []\n",
    "\n",
    "    print(\"LR:\"+str(lr)+\", Batch Size:\"+str(batch_size))\n",
    "\n",
    "    for epoch in range(num_epochs):\n",
    "        np.random.shuffle(train_data)\n",
    "        batches = [train_data[k:k + batch_size] for k in range(0, train_data.shape[0], batch_size)]\n",
    "\n",
    "        t = tqdm(batches)\n",
    "        for x,batch in enumerate(t):\n",
    "            params, cost = adamGD(batch, num_classes, lr, img_dim, img_depth, beta1, beta2, params, cost)\n",
    "            t.set_description(\"Cost: %.2f\" % (cost[-1]))\n",
    "            \n",
    "    final_params = params\n",
    "    \n",
    "    return final_params, cost"
   ]
  },
  {
   "cell_type": "code",
   "execution_count": 15,
   "metadata": {},
   "outputs": [],
   "source": [
    "num_out_neurons = trainDF['label'].nunique()\n",
    "def initialize(X, y,num_filt1 = 8, img_depth = 1, f=5, num_filt2 = 8, num_hidden_neurons = 16):\n",
    "    #w1 = (num hiden neuron, num input neurons)\n",
    "    #w2 = (num out neuron, num hiden neuron)\n",
    "    f1, f2, w1, w2 = (num_filt1 ,img_depth,f,f), (num_filt2 ,num_filt1,f,f), (num_hidden_neurons,128), (num_out_neurons, num_hidden_neurons)\n",
    "    f1 = initializeFilter(f1)\n",
    "    f2 = initializeFilter(f2)\n",
    "    w1 = initializeWeight(w1)\n",
    "    w2 = initializeWeight(w2)\n",
    "    \n",
    "    b1 = np.zeros((f1.shape[0],1))\n",
    "    b2 = np.zeros((f2.shape[0],1))\n",
    "    b3 = np.zeros((w1.shape[0],1))\n",
    "    b4 = np.zeros((w2.shape[0],1))\n",
    "\n",
    "    params = [f1, f2, w1, w2, b1, b2, b3, b4]\n",
    "\n",
    "    #prepare the training data\n",
    "    y_dash = y_train.reshape(len(y_train),1)\n",
    "    \n",
    "    #print(np.shape(y_dash),np.shape(X))\n",
    "    train_data = np.hstack((X,y_dash))\n",
    "    \n",
    "    return (train_data, params)"
   ]
  },
  {
   "cell_type": "code",
   "execution_count": 28,
   "metadata": {},
   "outputs": [],
   "source": [
    "#trainDF['image'] = trainDF.drop(columns=['label']).apply(lambda x : x['pixel0'])#resize(x[1].values.reshape(28,28),(10,10)))"
   ]
  },
  {
   "cell_type": "raw",
   "metadata": {},
   "source": [
    "for x in trainDF.drop(columns= ['label']).iterrows():\n",
    "    print(resize(x[1].values.reshape(28,28),(10,10)))\n",
    "    break\n",
    "trainDF['image'] = resize(trainDF.drop(columns=['label']).values.reshape(28,28),(10,10))"
   ]
  },
  {
   "cell_type": "code",
   "execution_count": 49,
   "metadata": {},
   "outputs": [
    {
     "data": {
      "text/plain": [
       "21000.0"
      ]
     },
     "execution_count": 49,
     "metadata": {},
     "output_type": "execute_result"
    }
   ],
   "source": [
    "42000/2"
   ]
  },
  {
   "cell_type": "code",
   "execution_count": 53,
   "metadata": {},
   "outputs": [
    {
     "name": "stdout",
     "output_type": "stream",
     "text": [
      "(10000, 785)\n"
     ]
    },
    {
     "data": {
      "text/plain": [
       "(42000, 785)"
      ]
     },
     "execution_count": 53,
     "metadata": {},
     "output_type": "execute_result"
    }
   ],
   "source": [
    "miniTrainDF = trainDF.truncate(32000)\n",
    "print(np.shape(miniTrainDF))\n",
    "np.shape(trainDF)"
   ]
  },
  {
   "cell_type": "code",
   "execution_count": 54,
   "metadata": {},
   "outputs": [],
   "source": [
    "y_train = miniTrainDF['label'].values\n",
    "x_train = miniTrainDF.drop(columns = ['label'])\n",
    "#x_train.head(1)"
   ]
  },
  {
   "cell_type": "code",
   "execution_count": 55,
   "metadata": {},
   "outputs": [
    {
     "name": "stdout",
     "output_type": "stream",
     "text": [
      "CPU times: user 28.9 ms, sys: 12.2 ms, total: 41.1 ms\n",
      "Wall time: 101 ms\n"
     ]
    }
   ],
   "source": [
    "%%time\n",
    "#Initialize the parameters\n",
    "train_data, params = initialize(x_train,y_train)#initialize on the training set"
   ]
  },
  {
   "cell_type": "raw",
   "metadata": {},
   "source": [
    "for x in train_data:\n",
    "    print(np.shape(x),x)\n",
    "    break\n",
    "#train_data[0]"
   ]
  },
  {
   "cell_type": "markdown",
   "metadata": {},
   "source": [
    "### $\\underline{\\textbf{Model Training}}$\n",
    "\n",
    "<hr style=\"height:2px;border:none;color:#333;background-color:#333;\"/>"
   ]
  },
  {
   "cell_type": "code",
   "execution_count": null,
   "metadata": {},
   "outputs": [
    {
     "name": "stdout",
     "output_type": "stream",
     "text": [
      "LR:0.01, Batch Size:32\n"
     ]
    },
    {
     "name": "stderr",
     "output_type": "stream",
     "text": [
      "Cost: 2.32: 100%|██████████| 313/313 [46:40<00:00,  8.21s/it]\n",
      "Cost: 2.32:  48%|████▊     | 149/313 [24:17<33:35, 12.29s/it] "
     ]
    }
   ],
   "source": [
    "#train\n",
    "final_params, cost = train(train_data = train_data, params = params, num_classes = trainDF['label'].nunique(),\n",
    "                           lr = 0.01, beta1 = 0.95, beta2 = 0.99,\n",
    "                           img_dim = 28, img_depth = 1, f = 5, num_filt1 = 8,\n",
    "                           num_filt2 = 8, batch_size = 32, num_epochs = 2)"
   ]
  },
  {
   "cell_type": "code",
   "execution_count": null,
   "metadata": {},
   "outputs": [],
   "source": []
  }
 ],
 "metadata": {
  "kernelspec": {
   "display_name": "Python 3",
   "language": "python",
   "name": "python3"
  },
  "language_info": {
   "codemirror_mode": {
    "name": "ipython",
    "version": 3
   },
   "file_extension": ".py",
   "mimetype": "text/x-python",
   "name": "python",
   "nbconvert_exporter": "python",
   "pygments_lexer": "ipython3",
   "version": "3.6.8"
  }
 },
 "nbformat": 4,
 "nbformat_minor": 2
}
